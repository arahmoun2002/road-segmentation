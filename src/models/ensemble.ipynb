{
 "cells": [
  {
   "cell_type": "code",
   "execution_count": 1,
   "metadata": {},
   "outputs": [
    {
     "name": "stdout",
     "output_type": "stream",
     "text": [
      "torch.Size([144, 3, 416, 416]) torch.Size([144, 1, 416, 416])\n"
     ]
    }
   ],
   "source": [
    "from torchvision import transforms\n",
    "from helper import get_preprocessed_data\n",
    "train_path = \"/workspace/Comp/Datasets/Project/training/images\"\n",
    "groundtruth_path = \"/workspace/Comp/Datasets/Project/training/groundtruth\"\n",
    "\n",
    "## Scale the image between 0 and 1 and resize it to (416, 416)\n",
    "transform = transforms.Compose([\n",
    "    transforms.ToTensor(),\n",
    "    transforms.Resize((416, 416)),\n",
    "    ])\n",
    "\n",
    "\n",
    "X, Y = get_preprocessed_data(train_path, transform, groundtruth_path)\n",
    "print(X.shape, Y.shape)"
   ]
  },
  {
   "cell_type": "code",
   "execution_count": 2,
   "metadata": {},
   "outputs": [],
   "source": [
    "import torch\n",
    "import torch.nn as nn\n",
    "\n",
    "class StackedModel(nn.Module):\n",
    "    def _init_(self, pspnet, deeplab, combine_method='average'):\n",
    "        super(StackedModel, self)._init_()\n",
    "        self.pspnet = pspnet\n",
    "        self.deeplab = deeplab\n",
    "        self.combine_method = combine_method\n",
    "\n",
    "    def forward(self, x):\n",
    "        pspnet_output = self.pspnet(x)\n",
    "        deeplab_output = self.deeplab(x)\n",
    "\n",
    "        if self.combine_method == 'average':\n",
    "            combined_output = (pspnet_output + deeplab_output) / 2\n",
    "        elif self.combine_method == 'weighted':\n",
    "            alpha = 0.6 \n",
    "            combined_output = alpha * pspnet_output + (1 - alpha) * deeplab_output\n",
    "        elif self.combine_method == 'max':\n",
    "            combined_output = torch.max(pspnet_output, deeplab_output)\n",
    "        else:\n",
    "            raise ValueError(\"Unknown combination method\")\n",
    "\n",
    "        return combined_output"
   ]
  },
  {
   "cell_type": "code",
   "execution_count": 3,
   "metadata": {},
   "outputs": [
    {
     "name": "stderr",
     "output_type": "stream",
     "text": [
      "/tmp/ipykernel_5874/3934499941.py:3: FutureWarning: You are using `torch.load` with `weights_only=False` (the current default value), which uses the default pickle module implicitly. It is possible to construct malicious pickle data which will execute arbitrary code during unpickling (See https://github.com/pytorch/pytorch/blob/main/SECURITY.md#untrusted-models for more details). In a future release, the default value for `weights_only` will be flipped to `True`. This limits the functions that could be executed during unpickling. Arbitrary objects will no longer be allowed to be loaded via this mode unless they are explicitly allowlisted by the user via `torch.serialization.add_safe_globals`. We recommend you start setting `weights_only=True` for any use case where you don't have full control of the loaded file. Please open an issue on GitHub for any issues related to this experimental feature.\n",
      "  deeplabv3resnet152 = torch.load('/workspace/Comp/Models/deeplabv3resnet152.pth')\n",
      "/workspace/Comp/.venv/lib/python3.10/site-packages/tqdm/auto.py:21: TqdmWarning: IProgress not found. Please update jupyter and ipywidgets. See https://ipywidgets.readthedocs.io/en/stable/user_install.html\n",
      "  from .autonotebook import tqdm as notebook_tqdm\n",
      "/tmp/ipykernel_5874/3934499941.py:4: FutureWarning: You are using `torch.load` with `weights_only=False` (the current default value), which uses the default pickle module implicitly. It is possible to construct malicious pickle data which will execute arbitrary code during unpickling (See https://github.com/pytorch/pytorch/blob/main/SECURITY.md#untrusted-models for more details). In a future release, the default value for `weights_only` will be flipped to `True`. This limits the functions that could be executed during unpickling. Arbitrary objects will no longer be allowed to be loaded via this mode unless they are explicitly allowlisted by the user via `torch.serialization.add_safe_globals`. We recommend you start setting `weights_only=True` for any use case where you don't have full control of the loaded file. Please open an issue on GitHub for any issues related to this experimental feature.\n",
      "  advanced_resnet50 = torch.load('/workspace/Comp/Models/eliotu_advanced_resnet50.pth')\n",
      "/tmp/ipykernel_5874/3934499941.py:5: FutureWarning: You are using `torch.load` with `weights_only=False` (the current default value), which uses the default pickle module implicitly. It is possible to construct malicious pickle data which will execute arbitrary code during unpickling (See https://github.com/pytorch/pytorch/blob/main/SECURITY.md#untrusted-models for more details). In a future release, the default value for `weights_only` will be flipped to `True`. This limits the functions that could be executed during unpickling. Arbitrary objects will no longer be allowed to be loaded via this mode unless they are explicitly allowlisted by the user via `torch.serialization.add_safe_globals`. We recommend you start setting `weights_only=True` for any use case where you don't have full control of the loaded file. Please open an issue on GitHub for any issues related to this experimental feature.\n",
      "  pspnet = torch.load('/workspace/Comp/Models/ryounis_pspnet_deeplabv3.pth')\n",
      "/tmp/ipykernel_5874/3934499941.py:6: FutureWarning: You are using `torch.load` with `weights_only=False` (the current default value), which uses the default pickle module implicitly. It is possible to construct malicious pickle data which will execute arbitrary code during unpickling (See https://github.com/pytorch/pytorch/blob/main/SECURITY.md#untrusted-models for more details). In a future release, the default value for `weights_only` will be flipped to `True`. This limits the functions that could be executed during unpickling. Arbitrary objects will no longer be allowed to be loaded via this mode unless they are explicitly allowlisted by the user via `torch.serialization.add_safe_globals`. We recommend you start setting `weights_only=True` for any use case where you don't have full control of the loaded file. Please open an issue on GitHub for any issues related to this experimental feature.\n",
      "  deeplabv3resnet101 = torch.load('/workspace/Comp/Models/deeplabv3resnet101.pth')\n"
     ]
    }
   ],
   "source": [
    "import torch\n",
    "\n",
    "deeplabv3resnet152 = torch.load('/workspace/Comp/Models/deeplabv3resnet152.pth')\n",
    "advanced_resnet50 = torch.load('/workspace/Comp/Models/eliotu_advanced_resnet50.pth')\n",
    "pspnet = torch.load('/workspace/Comp/Models/ryounis_pspnet_deeplabv3.pth')\n",
    "deeplabv3resnet101 = torch.load('/workspace/Comp/Models/deeplabv3resnet101.pth')\n",
    "\n",
    "models = [deeplabv3resnet152, advanced_resnet50, pspnet, deeplabv3resnet101]"
   ]
  },
  {
   "cell_type": "code",
   "execution_count": 8,
   "metadata": {},
   "outputs": [
    {
     "name": "stdout",
     "output_type": "stream",
     "text": [
      "{'model_0': 0.6287562002237642, 'model_1': 0.39893119998558085, 'model_2': 0.23367054410526328, 'model_3': 0.8383812067643728, 'threshold': 0.5931206715720474}\n",
      "-0.8579478225461616\n"
     ]
    }
   ],
   "source": [
    "import optuna\n",
    "from helper import get_mul_f1_score\n",
    "\n",
    "def objective(trial):\n",
    "    model_weights = [trial.suggest_float(f'model_{i}', 0.15, 0.85) for i in range(len(models))]\n",
    "    threshold = trial.suggest_float('threshold', 0.3, 0.7)\n",
    "    \n",
    "    \n",
    "    return -get_mul_f1_score(models, model_weights, zip(X, Y), threshold)\n",
    "\n",
    "# study = optuna.create_study(storage=\"sqlite:///t2.db\", study_name=\"t2\")\n",
    "study = optuna.load_study(storage=\"sqlite:///optf1-4-models.db\", study_name=\"optf1-4-models\")\n",
    "\n",
    "# study.optimize(objective, n_trials=30)\n",
    "\n",
    "print(study.best_params)  # E.g. {'x': 2.002108042}\n",
    "print(study.best_value)  # E.g. 3.0\n"
   ]
  },
  {
   "cell_type": "code",
   "execution_count": 10,
   "metadata": {},
   "outputs": [
    {
     "name": "stdout",
     "output_type": "stream",
     "text": [
      "(144, 416, 416)\n",
      "Images have been successfully saved.\n"
     ]
    }
   ],
   "source": [
    "from mask_to_submission import *\n",
    "from PIL import Image\n",
    "import numpy as np\n",
    "import os\n",
    "import torch\n",
    "\n",
    "test_path = \"/workspace/Comp/Datasets/Project/test/images\"\n",
    "\n",
    "X_test, _ = get_preprocessed_data('/workspace/Comp/Datasets/Project/test/images', transform, None)\n",
    "X_test_files = sorted(os.listdir(test_path))\n",
    "\n",
    "best_model_weights = [study.best_params[f'model_{i}'] for i in range(len(models))]\n",
    "best_threshold = study.best_params['threshold']\n",
    "\n",
    "all_preds = []\n",
    "for model in models:\n",
    "    model.eval()\n",
    "\n",
    "with torch.no_grad():  # Disable gradient computation\n",
    "    for images in X_test:\n",
    "        images = images.to('cuda')\n",
    "        predictions = torch.sum(torch.stack([model(torch.stack([images])) * best_model_weights[i] for i, model in enumerate(models)]), 2)\n",
    "        \n",
    "        prediction = (predictions[0] > best_threshold).cpu().numpy()\n",
    "        all_preds.append(prediction)\n",
    "        \n",
    "# Concatenate all predictions\n",
    "y_pred = np.concatenate(all_preds, axis=0)\n",
    "\n",
    "# Ensure the predictions are of shape (height, width) before converting to images\n",
    "print(y_pred.shape)\n",
    "y_pred = (y_pred).astype(np.uint8)  # Squeeze the last dimension if necessary\n",
    "\n",
    "pred_images = [Image.fromarray((y_pred[i] * 255)).resize((400, 400)) for i in range(y_pred.shape[0])]\n",
    "\n",
    "output_path = '/workspace/Comp/Road-Segmentation-Comp/outputs'\n",
    "os.makedirs(output_path, exist_ok=True)  # Ensure the output directory exists\n",
    "\n",
    "# Save all images in the output_path directory\n",
    "for i, img in enumerate(pred_images):\n",
    "    img.save(f'{output_path}/pred_{X_test_files[i]}')\n",
    "\n",
    "print(\"Images have been successfully saved.\")"
   ]
  }
 ],
 "metadata": {
  "kernelspec": {
   "display_name": ".venv",
   "language": "python",
   "name": "python3"
  },
  "language_info": {
   "codemirror_mode": {
    "name": "ipython",
    "version": 3
   },
   "file_extension": ".py",
   "mimetype": "text/x-python",
   "name": "python",
   "nbconvert_exporter": "python",
   "pygments_lexer": "ipython3",
   "version": "3.10.13"
  }
 },
 "nbformat": 4,
 "nbformat_minor": 2
}
